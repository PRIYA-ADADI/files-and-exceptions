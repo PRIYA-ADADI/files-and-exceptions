{
  "nbformat": 4,
  "nbformat_minor": 0,
  "metadata": {
    "colab": {
      "provenance": []
    },
    "kernelspec": {
      "name": "python3",
      "display_name": "Python 3"
    },
    "language_info": {
      "name": "python"
    }
  },
  "cells": [
    {
      "cell_type": "markdown",
      "source": [
        "\n",
        "**1. What is the difference between interpreted and compiled languages?**  \n",
        "Interpreted languages run directly from the source code using an interpreter. They translate and run the code line by line. Examples are Python and JavaScript.  \n",
        "Compiled languages are converted into machine code before running. A compiler does this, making programs run faster. Examples are C and C++.  \n",
        "Interpreted languages are easier to test and change, but slower. Compiled programs are faster but need more time to build.  \n",
        "Some languages, like Java, use both methods with special tools.  \n",
        "Knowing the difference helps you pick the right language for your project.\n",
        "\n",
        "\n",
        "\n",
        "**2. What is exception handling in Python?**  \n",
        "Exception handling helps manage errors that happen while a program runs.  \n",
        "You use `try` to write the code that might have errors. If an error occurs, Python jumps to `except` to handle it.  \n",
        "This way, the program doesn’t crash suddenly.  \n",
        "You can also use `else` to run code if no error occurs.  \n",
        "And `finally` runs code no matter what, like closing files.  \n",
        "This makes programs safer and easier to fix when something goes wrong.\n",
        "\n",
        "\n",
        "**3. What is the purpose of the finally block in exception handling?**  \n",
        "The `finally` block runs code after a `try` and `except`, no matter if there was an error or not.  \n",
        "It is used to clean up resources, such as closing files or disconnecting from the internet.  \n",
        "Even if an error happens, `finally` will still run.  \n",
        "This helps prevent problems like open files or connections left hanging.  \n",
        "It makes the program more reliable and safe.  \n",
        "Always put cleanup code inside `finally` to make sure it runs.\n",
        "\n",
        "\n",
        "\n",
        "**4. What is logging in Python?**  \n",
        "Logging means recording messages from a program as it runs.  \n",
        "It can store information about errors, warnings, or normal actions.  \n",
        "Python’s `logging` module helps create these logs.  \n",
        "Logs show what the program is doing and help find problems.  \n",
        "You can set different levels, like debug, info, warning, error, and critical.  \n",
        "Logs can be saved to files or shown on the screen.  \n",
        "Using logging makes it easier to understand and fix problems later.\n",
        "\n",
        "\n",
        "\n",
        "**5. What is the significance of the __del__ method in Python?**  \n",
        "The `__del__` method is called when an object is about to be destroyed.  \n",
        "It is used to do cleanup tasks, like closing a file or releasing memory.  \n",
        "However, it is not always reliable because we don’t know exactly when it runs.  \n",
        "Python automatically cleans up most objects, so `__del__` is rarely needed.  \n",
        "It can cause problems if errors happen during cleanup or if objects refer to each other.  \n",
        "Instead of `__del__`, it’s better to use context managers with `with` for cleanup.\n",
        "\n",
        "\n",
        "\n",
        "**6. What is the difference between import and from ... import?**  \n",
        "`import module` loads the whole module. To use something from it, you write `module.name`.  \n",
        "`from module import name` loads only specific parts, so you can use `name` directly.  \n",
        "Using `import` keeps the namespace clean and avoids conflicts.  \n",
        "`from ... import ...` makes code shorter and easier to write when you need only some parts.  \n",
        "But it can cause confusion if many names are imported into one file.  \n",
        "Choose the method based on what you need and how clear you want your code to be.\n",
        "\n",
        "\n",
        "\n",
        "**7. How can you handle multiple exceptions in Python?**  \n",
        "You can catch different errors in one `try` block by listing them in parentheses:  \n",
        "```python\n",
        "except (TypeError, ValueError):  \n",
        "```  \n",
        "Or, you can write multiple `except` blocks for different errors.  \n",
        "This helps your program handle different problems separately.  \n",
        "It makes your code safer and more flexible.  \n",
        "For example, you can display different messages depending on the error type.  \n",
        "Handling multiple exceptions makes your program stronger and more reliable.\n",
        "\n",
        "\n",
        "\n",
        "**8. What is the purpose of the with statement when handling files in Python?**  \n",
        "The `with` statement makes opening and closing files easier.  \n",
        "It automatically closes the file after the block ends, even if there is an error.  \n",
        "This prevents files from being left open, which can cause problems.  \n",
        "You write code like this:  \n",
        "```python\n",
        "with open('file.txt', 'r') as f:  \n",
        "    data = f.read()  \n",
        "```  \n",
        "Once the block is done, the file closes itself.  \n",
        "Using `with` is a good practice because it keeps your code clean and safe.\n",
        "\n",
        "\n",
        "\n",
        "**9. What is the difference between multithreading and multiprocessing?**  \n",
        "Multithreading runs multiple tasks at the same time inside one program.  \n",
        "All threads share the same memory, so they are lightweight.  \n",
        "It’s good for tasks that wait for things, like loading files or waiting for the internet.  \n",
        "Multiprocessing runs multiple programs at the same time, each with its own memory.  \n",
        "It is better for heavy calculations that need full CPU power.  \n",
        "In Python, the `threading` module is used for threads, and `multiprocessing` for separate programs.  \n",
        "Choose the right one based on whether your task is waiting or heavy-duty.\n",
        "\n",
        "\n",
        "**10. What are the advantages of using logging in a program?**  \n",
        "Logging helps you keep a record of what your program does while running.  \n",
        "It helps find and fix problems quickly.  \n",
        "Logs can show errors, warning messages, or steps the program takes.  \n",
        "You can set different levels for more or less detail.  \n",
        "Logs can be saved to a file or shown on the screen.  \n",
        "This makes debugging easier because you see what happened before an error.  \n",
        "Logging also helps monitor the health of your program over time.  \n",
        "It is better than using print statements for checking what your code is doing.\n",
        "\n",
        "\n",
        "\n",
        "**11. What is memory management in Python?**  \n",
        "Memory management in Python involves allocating, deallocating, and organizing memory for objects and data during a program’s execution.  \n",
        "Python automatically handles memory allocation for objects, manages free memory, and reuses objects through techniques like reference counting and garbage collection.  \n",
        "This process ensures that programs run efficiently without manual intervention.  \n",
        "Proper memory management helps prevent leaks and ensures optimal use of system resources.\n",
        "\n",
        "\n",
        "\n",
        "**12. What are the basic steps involved in exception handling in Python?**  \n",
        "The basic steps are:  \n",
        "1. Write code inside a `try` block where errors might occur.  \n",
        "2. Use `except` blocks to catch and handle specific or general exceptions.  \n",
        "3. Optionally, include an `else` block to run code if no exceptions occur.  \n",
        "4. Use a `finally` block to execute cleanup code regardless of exceptions.  \n",
        "These steps help make programs robust and prevent crashes.\n",
        "\n",
        "\n",
        "\n",
        "**13. Why is memory management important in Python?**  \n",
        "Memory management is crucial to prevent resource leaks, optimize performance, and ensure that the application uses system resources efficiently.  \n",
        "Effective management avoids running out of memory, reduces garbage collection overhead, and maintains program stability, especially in long-running applications.\n",
        "\n",
        "\n",
        "\n",
        "**14. What is the role of try and except in exception handling?**  \n",
        "`try` contains code that might raise an error.  \n",
        "`except` catches specific or general errors, allowing the program to handle them gracefully instead of crashing.  \n",
        "This structure enables developers to manage errors, provide user-friendly messages, or take corrective actions.\n",
        "\n",
        "\n",
        "\n",
        "**15. How does Python's garbage collection system work?**  \n",
        "Python uses reference counting to track how many references an object has. When an object’s reference count drops to zero, it is immediately deallocated.  \n",
        "Additionally, Python has a cyclic garbage collector to detect and clean up reference cycles (objects referencing each other).  \n",
        "This combination ensures efficient memory cleanup without programmer intervention.\n",
        "\n",
        "\n",
        "\n",
        "**16. What is the purpose of the else block in exception handling?**  \n",
        "The `else` block runs code if no exceptions are raised in the `try` block.  \n",
        "It is used to execute code that should only run when the `try` block succeeds, separating normal flow from error handling.\n",
        "\n",
        "\n",
        "\n",
        "**17. What are the common logging levels in Python?**  \n",
        "The common logging levels are:  \n",
        "- DEBUG: Detailed information, useful for diagnosing issues.  \n",
        "- INFO: General information about program execution.  \n",
        "- WARNING: Indications of potential problems.  \n",
        "- ERROR: Serious issues that prevent certain operations.  \n",
        "- CRITICAL: Severe problems that may cause program termination.\n",
        "\n",
        "\n",
        "\n",
        "**18. What is the difference between os.fork() and multiprocessing in Python?**  \n",
        "`os.fork()` creates a new child process by duplicating the current process; it’s a low-level system call.  \n",
        "`multiprocessing` is a high-level module that provides a process-based parallelism interface, allowing easier creation and management of processes.  \n",
        "`multiprocessing` handles process creation, communication, and synchronization, making it more portable and easier to use across platforms.\n",
        "\n",
        "\n",
        "\n",
        "**19. What is the importance of closing a file in Python?**  \n",
        "Closing a file releases system resources, ensures that data is written and saved properly, and prevents data corruption or leaks.  \n",
        "It is important to close files after operations to maintain system stability and data integrity.\n",
        "\n",
        "\n",
        "\n",
        "**20. What is the difference between file.read() and file.readline() in Python?**  \n",
        "`file.read()` reads the entire contents of the file into a single string.  \n",
        "`file.readline()` reads only one line from the file each time it is called.  \n",
        "Use `read()` for full file content, and `readline()` for processing files line by line.\n",
        "\n",
        "\n",
        "\n",
        "**21. What is the logging module in Python used for?**  \n",
        "The `logging` module is used to record messages about program execution, such as errors, warnings, informational messages, and debugging details.  \n",
        "It helps in monitoring, debugging, and maintaining applications by providing configurable log levels and output destinations.\n",
        "\n",
        "\n",
        "\n",
        "**22. What is the os module in Python used for in file handling?**  \n",
        "The `os` module provides functions for interacting with the operating system, such as creating, deleting, and manipulating files and directories, and getting environment information.  \n",
        "It helps perform system-level tasks related to file and directory management.\n",
        "\n",
        "\n",
        "\n",
        "**23. What are the challenges associated with memory management in Python?**  \n",
        "Challenges include handling circular references that the reference counting cannot resolve, managing large memory-consuming applications, and ensuring efficient garbage collection.  \n",
        "Additionally, managing memory in multi-threaded or multi-process environments can be complex.\n",
        "\n",
        "\n",
        "\n",
        "**24. How do you raise an exception manually in Python?**  \n",
        "You can raise an exception using the `raise` statement, e.g., `raise ValueError(\"Invalid input\")`.  \n",
        "This triggers an exception intentionally to signal errors or invalid conditions.\n",
        "\n",
        "\n",
        "**25. Why is it important to use multithreading in certain applications?**  \n",
        "Multithreading allows multiple tasks to run concurrently, making programs more responsive, especially in I/O-bound applications like GUIs or network servers.  \n",
        "It improves resource utilization and can lead to better performance in tasks that involve waiting for external operations.\n",
        "\n"
      ],
      "metadata": {
        "id": "GpN4PS3LYnz9"
      }
    },
    {
      "cell_type": "code",
      "source": [
        "# Question 1: How can you open a file for writing in Python and write a string to it?\n",
        "with open('file.txt', 'w') as file:\n",
        "    file.write(\"Hello, World!\")"
      ],
      "metadata": {
        "id": "CBtypetjZMV5"
      },
      "execution_count": 1,
      "outputs": []
    },
    {
      "cell_type": "code",
      "source": [
        "# Question 2: Write a Python program to read the contents of a file and print each line\n",
        "with open('file.txt', 'r') as file:\n",
        "    for line in file:\n",
        "        print(line, end='')"
      ],
      "metadata": {
        "colab": {
          "base_uri": "https://localhost:8080/"
        },
        "id": "b2a4OZc2e4uy",
        "outputId": "b230f138-f1f8-452c-9d1b-9e2fac6ac00e"
      },
      "execution_count": 2,
      "outputs": [
        {
          "output_type": "stream",
          "name": "stdout",
          "text": [
            "Hello, World!"
          ]
        }
      ]
    },
    {
      "cell_type": "code",
      "source": [
        "# Question 3: How would you handle a case where the file doesn't exist while trying to open it for reading?\n",
        "try:\n",
        "    with open('nonexistent.txt', 'r') as file:\n",
        "        content = file.read()\n",
        "except FileNotFoundError:\n",
        "    print(\"File does not exist.\")"
      ],
      "metadata": {
        "colab": {
          "base_uri": "https://localhost:8080/"
        },
        "id": "yjSCqsy6e413",
        "outputId": "10434299-58e4-48a0-bbc2-25489428a1c0"
      },
      "execution_count": 3,
      "outputs": [
        {
          "output_type": "stream",
          "name": "stdout",
          "text": [
            "File does not exist.\n"
          ]
        }
      ]
    },
    {
      "cell_type": "code",
      "source": [
        "# Question 4: Write a Python script that reads from one file and writes its content to another file\n",
        "# Creating source file with sample content\n",
        "with open('source.txt', 'w') as src:\n",
        "    src.write(\"This is sample content for source file.\\nSecond line of content.\")\n",
        "\n",
        "# Creating destination file if it doesn't exist\n",
        "with open('destination.txt', 'w') as dest:\n",
        "    pass  # just to ensure the file exists and is writable\n",
        "\n",
        "# Reading from source and writing to destination\n",
        "with open('source.txt', 'r') as src, open('destination.txt', 'w') as dest:\n",
        "    for line in src:\n",
        "        dest.write(line)"
      ],
      "metadata": {
        "id": "TBGLWHkPe46b"
      },
      "execution_count": 5,
      "outputs": []
    },
    {
      "cell_type": "code",
      "source": [
        "# Question 5: How would you catch and handle division by zero error in Python?\n",
        "try:\n",
        "    result = 10 / 0\n",
        "except ZeroDivisionError:\n",
        "    print(\"Cannot divide by zero.\")"
      ],
      "metadata": {
        "colab": {
          "base_uri": "https://localhost:8080/"
        },
        "id": "a536WGaie4-L",
        "outputId": "fb03aa18-647a-4623-e694-d9d0f988ccca"
      },
      "execution_count": 6,
      "outputs": [
        {
          "output_type": "stream",
          "name": "stdout",
          "text": [
            "Cannot divide by zero.\n"
          ]
        }
      ]
    },
    {
      "cell_type": "code",
      "source": [
        "# Question 6: Write a Python program that logs an error message to a log file when a division by zero exception occurs\n",
        "import logging\n",
        "\n",
        "logging.basicConfig(filename='app.log', level=logging.ERROR)\n",
        "\n",
        "try:\n",
        "    result = 10 / 0\n",
        "except ZeroDivisionError:\n",
        "    logging.error(\"Attempted division by zero.\")"
      ],
      "metadata": {
        "colab": {
          "base_uri": "https://localhost:8080/"
        },
        "id": "S_vHt1one5CG",
        "outputId": "23693b17-12b7-498a-9b1c-df4d11e835c2"
      },
      "execution_count": 7,
      "outputs": [
        {
          "output_type": "stream",
          "name": "stderr",
          "text": [
            "ERROR:root:Attempted division by zero.\n"
          ]
        }
      ]
    },
    {
      "cell_type": "code",
      "source": [
        "# Question 7: How do you log information at different levels (INFO, ERROR, WARNING) in Python using the logging module?\n",
        "import logging\n",
        "\n",
        "logging.basicConfig(level=logging.DEBUG)\n",
        "\n",
        "logging.debug(\"This is a debug message.\")\n",
        "logging.info(\"This is an info message.\")\n",
        "logging.warning(\"This is a warning.\")\n",
        "logging.error(\"This is an error.\")\n",
        "logging.critical(\"This is critical.\")"
      ],
      "metadata": {
        "colab": {
          "base_uri": "https://localhost:8080/"
        },
        "id": "vUg6MvR1e5Fl",
        "outputId": "02d369aa-2b7e-441b-b131-6529d4700484"
      },
      "execution_count": 8,
      "outputs": [
        {
          "output_type": "stream",
          "name": "stderr",
          "text": [
            "WARNING:root:This is a warning.\n",
            "ERROR:root:This is an error.\n",
            "CRITICAL:root:This is critical.\n"
          ]
        }
      ]
    },
    {
      "cell_type": "code",
      "source": [
        "# Question 8: Write a program to handle a file opening error using exception handling\n",
        "try:\n",
        "    with open('somefile.txt', 'r') as file:\n",
        "        content = file.read()\n",
        "except IOError:\n",
        "    print(\"Error opening the file.\")"
      ],
      "metadata": {
        "colab": {
          "base_uri": "https://localhost:8080/"
        },
        "id": "VJzlTpqNe5JE",
        "outputId": "f4ffbab2-9bb7-4f67-8ed3-2bc8e8acf7fc"
      },
      "execution_count": 9,
      "outputs": [
        {
          "output_type": "stream",
          "name": "stdout",
          "text": [
            "Error opening the file.\n"
          ]
        }
      ]
    },
    {
      "cell_type": "code",
      "source": [
        "# Question 9: How can you read a file line by line and store its content in a list in Python?\n",
        "with open('file.txt', 'r') as file:\n",
        "    lines = file.readlines()"
      ],
      "metadata": {
        "id": "Sbjfc3-Me5Mm"
      },
      "execution_count": 11,
      "outputs": []
    },
    {
      "cell_type": "code",
      "source": [
        "# Question 10: How can you append data to an existing file in Python?\n",
        "with open('file.txt', 'a') as file:\n",
        "    file.write(\"Appending this line.\\n\")"
      ],
      "metadata": {
        "id": "BpyZpgT1e5QZ"
      },
      "execution_count": 12,
      "outputs": []
    },
    {
      "cell_type": "code",
      "source": [
        "# Question 11: Write a Python program that uses a try-except block to handle an error when attempting to access a dictionary key that doesn't exist\n",
        "my_dict = {'a': 1}\n",
        "try:\n",
        "    value = my_dict['b']\n",
        "except KeyError:\n",
        "    print(\"Key not found.\")"
      ],
      "metadata": {
        "colab": {
          "base_uri": "https://localhost:8080/"
        },
        "id": "V3986Nthe5Ui",
        "outputId": "9e29d4e8-1e66-4bc5-ab1e-5cfc88da60fe"
      },
      "execution_count": 13,
      "outputs": [
        {
          "output_type": "stream",
          "name": "stdout",
          "text": [
            "Key not found.\n"
          ]
        }
      ]
    },
    {
      "cell_type": "code",
      "source": [
        "# Question 12: Write a program that demonstrates using multiple except blocks to handle different types of exceptions\n",
        "try:\n",
        "    result = 10 / 0\n",
        "    value = my_dict['b']\n",
        "except ZeroDivisionError:\n",
        "    print(\"Division by zero.\")\n",
        "except KeyError:\n",
        "    print(\"Key not found.\")"
      ],
      "metadata": {
        "colab": {
          "base_uri": "https://localhost:8080/"
        },
        "id": "wWb7urzqgIje",
        "outputId": "728d4896-b3cd-4839-902e-15e23cc42e48"
      },
      "execution_count": 14,
      "outputs": [
        {
          "output_type": "stream",
          "name": "stdout",
          "text": [
            "Division by zero.\n"
          ]
        }
      ]
    },
    {
      "cell_type": "code",
      "source": [
        "# Question 13: How would you check if a file exists before attempting to read it in Python?\n",
        "import os\n",
        "\n",
        "if os.path.exists('file.txt'):\n",
        "    with open('file.txt', 'r') as file:\n",
        "        content = file.read()\n",
        "else:\n",
        "    print(\"File does not exist.\")"
      ],
      "metadata": {
        "id": "_VrFEWeDgIpA"
      },
      "execution_count": 15,
      "outputs": []
    },
    {
      "cell_type": "code",
      "source": [
        "# Question 14: Write a program that uses the logging module to log both informational and error messages\n",
        "import logging\n",
        "\n",
        "logging.basicConfig(filename='app.log', level=logging.DEBUG)\n",
        "\n",
        "logging.info(\"This is an info message.\")\n",
        "try:\n",
        "    result = 10 / 0\n",
        "except ZeroDivisionError:\n",
        "    logging.error(\"Division by zero occurred.\")"
      ],
      "metadata": {
        "id": "MVETuAW8gMpY"
      },
      "execution_count": 15,
      "outputs": []
    },
    {
      "cell_type": "code",
      "source": [
        "# Question 15: Write a Python program that prints the content of a file and handles the case when the file is empty\n",
        "with open('file.txt', 'r') as file:\n",
        "    content = file.read()\n",
        "    if not content:\n",
        "        print(\"File is empty.\")\n",
        "    else:\n",
        "        print(content)"
      ],
      "metadata": {
        "colab": {
          "base_uri": "https://localhost:8080/"
        },
        "id": "__y4-of_gMut",
        "outputId": "bccc77c9-cca6-4553-ceb8-301ff0aacc43"
      },
      "execution_count": 16,
      "outputs": [
        {
          "output_type": "stream",
          "name": "stdout",
          "text": [
            "Hello, World!Appending this line.\n",
            "\n"
          ]
        }
      ]
    },
    {
      "cell_type": "code",
      "source": [
        "# Question 16: Demonstrate how to use memory profiling to check the memory usage of a small program\n",
        "\n",
        "# Note: The 'memory_profiler' module is not installed by default.\n",
        "# If you're running this code locally, you can install it using:\n",
        "# pip install memory_profiler\n",
        "\n",
        "# If you're using a Jupyter notebook, you can install it with:\n",
        "!pip install memory_profiler\n",
        "\n",
        "# After installation, you can use the following code:\n",
        "\n",
        "from memory_profiler import profile\n",
        "\n",
        "@profile\n",
        "def my_func():\n",
        "    a = [i for i in range(10000)]\n",
        "    return a\n",
        "\n",
        "if __name__ == \"__main__\":\n",
        "    my_func()"
      ],
      "metadata": {
        "colab": {
          "base_uri": "https://localhost:8080/"
        },
        "id": "dwtjUn_3gM0S",
        "outputId": "448abd20-92f4-418c-9160-f14151195b93"
      },
      "execution_count": 19,
      "outputs": [
        {
          "output_type": "stream",
          "name": "stdout",
          "text": [
            "Collecting memory_profiler\n",
            "  Downloading memory_profiler-0.61.0-py3-none-any.whl.metadata (20 kB)\n",
            "Requirement already satisfied: psutil in /usr/local/lib/python3.11/dist-packages (from memory_profiler) (5.9.5)\n",
            "Downloading memory_profiler-0.61.0-py3-none-any.whl (31 kB)\n",
            "Installing collected packages: memory_profiler\n",
            "Successfully installed memory_profiler-0.61.0\n"
          ]
        },
        {
          "output_type": "stream",
          "name": "stderr",
          "text": [
            "\n",
            "PYDEV DEBUGGER WARNING:\n",
            "sys.settrace() should not be used when the debugger is being used.\n",
            "This may cause the debugger to stop working correctly.\n",
            "If this is needed, please check: \n",
            "http://pydev.blogspot.com/2007/06/why-cant-pydev-debugger-work-with.html\n",
            "to see how to restore the debug tracing back correctly.\n",
            "Call Location:\n",
            "  File \"/usr/local/lib/python3.11/dist-packages/memory_profiler.py\", line 847, in enable\n",
            "    sys.settrace(self.trace_memory_usage)\n",
            "\n",
            "\n",
            "PYDEV DEBUGGER WARNING:\n",
            "sys.settrace() should not be used when the debugger is being used.\n",
            "This may cause the debugger to stop working correctly.\n",
            "If this is needed, please check: \n",
            "http://pydev.blogspot.com/2007/06/why-cant-pydev-debugger-work-with.html\n",
            "to see how to restore the debug tracing back correctly.\n",
            "Call Location:\n",
            "  File \"/usr/local/lib/python3.11/dist-packages/memory_profiler.py\", line 850, in disable\n",
            "    sys.settrace(self._original_trace_function)\n",
            "\n"
          ]
        },
        {
          "output_type": "stream",
          "name": "stdout",
          "text": [
            "ERROR: Could not find file <ipython-input-19-f6cb71d8c9bd>\n",
            "NOTE: %mprun can only be used on functions defined in physical files, and not in the IPython environment.\n"
          ]
        }
      ]
    },
    {
      "cell_type": "code",
      "source": [
        "# Question 16: Demonstrate how to use memory profiling to check the memory usage of a small program\n",
        "\n",
        "# Note: The 'memory_profiler' module is not installed by default.\n",
        "# If you're running this code locally, you can install it using:\n",
        "# pip install memory_profiler\n",
        "\n",
        "# If you're using a Jupyter notebook, you can install it with:\n",
        "!pip install memory_profiler\n",
        "\n",
        "# After installation, you can use the following code:\n",
        "\n",
        "from memory_profiler import profile\n",
        "\n",
        "@profile\n",
        "def my_func():\n",
        "    a = [i for i in range(10000)]\n",
        "    return a\n",
        "\n",
        "if __name__ == \"__main__\":\n",
        "    my_func()"
      ],
      "metadata": {
        "colab": {
          "base_uri": "https://localhost:8080/"
        },
        "id": "I05fg35Ug96x",
        "outputId": "dfee40bc-a8f7-47b2-9ae0-8fa8cbdd91a3"
      },
      "execution_count": 20,
      "outputs": [
        {
          "output_type": "stream",
          "name": "stdout",
          "text": [
            "Requirement already satisfied: memory_profiler in /usr/local/lib/python3.11/dist-packages (0.61.0)\n",
            "Requirement already satisfied: psutil in /usr/local/lib/python3.11/dist-packages (from memory_profiler) (5.9.5)\n",
            "ERROR: Could not find file <ipython-input-20-f6cb71d8c9bd>\n",
            "NOTE: %mprun can only be used on functions defined in physical files, and not in the IPython environment.\n"
          ]
        }
      ]
    },
    {
      "cell_type": "code",
      "source": [
        "# Question 17: Write a Python program to create and write a list of numbers to a file, one number per line\n",
        "numbers = [1, 2, 3, 4, 5]\n",
        "with open('numbers.txt', 'w') as file:\n",
        "    for number in numbers:\n",
        "        file.write(f\"{number}\\n\")"
      ],
      "metadata": {
        "id": "OwXCcZ2Dg9_9"
      },
      "execution_count": 22,
      "outputs": []
    },
    {
      "cell_type": "code",
      "source": [
        "# Question 18: How would you implement a basic logging setup that logs to a file with rotation after 1MB\n",
        "import logging\n",
        "from logging.handlers import RotatingFileHandler\n",
        "\n",
        "logger = logging.getLogger('my_logger')\n",
        "logger.setLevel(logging.INFO)\n",
        "\n",
        "handler = RotatingFileHandler('app.log', maxBytes=1_000_000, backupCount=3)\n",
        "logger.addHandler(handler)\n",
        "\n",
        "logger.info(\"This is a log message.\")"
      ],
      "metadata": {
        "colab": {
          "base_uri": "https://localhost:8080/"
        },
        "id": "EjADBlQkg-FN",
        "outputId": "df264af0-2272-4d08-e1cd-a8f4edf5046d"
      },
      "execution_count": 23,
      "outputs": [
        {
          "output_type": "stream",
          "name": "stderr",
          "text": [
            "INFO:my_logger:This is a log message.\n"
          ]
        }
      ]
    },
    {
      "cell_type": "code",
      "source": [
        "# Question 19: Write a program that handles both IndexError and KeyError using a try-except block\n",
        "my_list = [1, 2, 3]\n",
        "my_dict = {'a': 1}\n",
        "\n",
        "try:\n",
        "    print(my_list[5])\n",
        "    print(my_dict['b'])\n",
        "except IndexError:\n",
        "    print(\"Index out of range.\")\n",
        "except KeyError:\n",
        "    print(\"Key not found.\")"
      ],
      "metadata": {
        "colab": {
          "base_uri": "https://localhost:8080/"
        },
        "id": "U4wNjjskhT4o",
        "outputId": "78342387-4557-4ad3-de49-87811a568ca7"
      },
      "execution_count": 24,
      "outputs": [
        {
          "output_type": "stream",
          "name": "stdout",
          "text": [
            "Index out of range.\n"
          ]
        }
      ]
    },
    {
      "cell_type": "code",
      "source": [
        "# Question 20: How would you open a file and read its contents using a context manager in Python?\n",
        "with open('file.txt', 'r') as file:\n",
        "    content = file.read()"
      ],
      "metadata": {
        "id": "LBSzxDTyhSWU"
      },
      "execution_count": 24,
      "outputs": []
    },
    {
      "cell_type": "code",
      "source": [
        "# Question 21: Write a Python program that reads a file and prints the number of occurrences of a specific word\n",
        "word_to_count = 'python'\n",
        "count = 0\n",
        "with open('file.txt', 'r') as file:\n",
        "    for line in file:\n",
        "        count += line.lower().split().count(word_to_count.lower())\n",
        "print(f\"'{word_to_count}' occurs {count} times.\")"
      ],
      "metadata": {
        "colab": {
          "base_uri": "https://localhost:8080/"
        },
        "id": "bnIPPflIhSbG",
        "outputId": "a9968fa1-1b8f-4a1e-90e5-eab20b0a332d"
      },
      "execution_count": 25,
      "outputs": [
        {
          "output_type": "stream",
          "name": "stdout",
          "text": [
            "'python' occurs 0 times.\n"
          ]
        }
      ]
    },
    {
      "cell_type": "code",
      "source": [
        "# Question 22: How can you check if a file is empty before attempting to read its contents?\n",
        "import os\n",
        "\n",
        "if os.path.getsize('file.txt') == 0:\n",
        "    print(\"File is empty.\")\n",
        "else:\n",
        "    with open('file.txt', 'r') as file:\n",
        "        content = file.read()\n",
        ""
      ],
      "metadata": {
        "id": "uHq4Bd9hhSe0"
      },
      "execution_count": 26,
      "outputs": []
    },
    {
      "cell_type": "code",
      "source": [
        "# Question 23: Write a Python program that writes to a log file when an error occurs during file handling\n",
        "import logging\n",
        "\n",
        "logging.basicConfig(filename='file_errors.log', level=logging.ERROR)\n",
        "\n",
        "try:\n",
        "    with open('nonexistent.txt', 'r') as file:\n",
        "        content = file.read()\n",
        "except IOError as e:\n",
        "    logging.error(f\"Error opening file: {e}\")\n",
        ""
      ],
      "metadata": {
        "id": "JGK8RYoWhSiX"
      },
      "execution_count": null,
      "outputs": []
    }
  ]
}